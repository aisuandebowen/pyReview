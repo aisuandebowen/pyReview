{
 "cells": [
  {
   "cell_type": "markdown",
   "id": "51c6fe81-fef3-4079-80da-b0f9b3d203e8",
   "metadata": {},
   "source": [
    "# 一、 数据类型"
   ]
  },
  {
   "cell_type": "markdown",
   "id": "675086da-bd07-4f14-b3bb-0e32a14df47a",
   "metadata": {},
   "source": [
    "## 1.1 列表"
   ]
  },
  {
   "cell_type": "markdown",
   "id": "f426aa12-0e91-4c50-8af5-520febf3c47d",
   "metadata": {},
   "source": [
    "### 1.1.1 基础"
   ]
  },
  {
   "cell_type": "code",
   "execution_count": 1,
   "id": "62ef6c5f-0b34-4504-8cef-0c10b253e296",
   "metadata": {},
   "outputs": [
    {
     "name": "stdout",
     "output_type": "stream",
     "text": [
      "[111]\n",
      "[3, 4]\n",
      "[111, 3, '你', '好']\n",
      "[111, 3, 999, '你', '好']\n"
     ]
    }
   ],
   "source": [
    "list = ['1',2,3,4]\n",
    "list[0] = 111\n",
    "del list[1]\n",
    "print(list[0:1])  # 左闭右开\n",
    "print(list[1:])\n",
    "list[2:] = ['你','好']\n",
    "print(list)\n",
    "list[2:2] = [999] # 插入\n",
    "print(list)"
   ]
  },
  {
   "cell_type": "markdown",
   "id": "03758224-287b-4b09-8303-4bff173c71f7",
   "metadata": {},
   "source": [
    "### 1.1.2 常用方法"
   ]
  },
  {
   "cell_type": "markdown",
   "id": "e74433c8-f687-4232-b8ec-0fc8320786c2",
   "metadata": {},
   "source": [
    "#### 添加 append"
   ]
  },
  {
   "cell_type": "code",
   "execution_count": 2,
   "id": "90e05f6a-6ccf-4ad3-acb3-872d205a05d7",
   "metadata": {},
   "outputs": [
    {
     "name": "stdout",
     "output_type": "stream",
     "text": [
      "[1, 2, 3, 4, 5, 111]\n"
     ]
    }
   ],
   "source": [
    "list = [1,2,3,4,5]\n",
    "box = 111\n",
    "list.append(box)\n",
    "print(list)"
   ]
  },
  {
   "cell_type": "markdown",
   "id": "c27d886b-fc87-4bd1-9fb6-0abf28896c99",
   "metadata": {},
   "source": [
    "#### 清空 clear"
   ]
  },
  {
   "cell_type": "code",
   "execution_count": 3,
   "id": "2e651a8c-df6b-4afc-98ee-5d9985251c86",
   "metadata": {},
   "outputs": [
    {
     "name": "stdout",
     "output_type": "stream",
     "text": [
      "[]\n"
     ]
    }
   ],
   "source": [
    "list = [1,2,3,4,5]\n",
    "list.clear()\n",
    "print(list)"
   ]
  },
  {
   "cell_type": "markdown",
   "id": "a8fa18e0-6345-40a0-b214-a99c60e8d314",
   "metadata": {},
   "source": [
    "#### 计数 count（某元素出现次数）"
   ]
  },
  {
   "cell_type": "code",
   "execution_count": 4,
   "id": "fc684b72-1b02-4a54-8ef5-6511db50bde7",
   "metadata": {},
   "outputs": [
    {
     "name": "stdout",
     "output_type": "stream",
     "text": [
      "5\n"
     ]
    }
   ],
   "source": [
    "list = [1,2,3,4,5,5,5,5,5]\n",
    "num = list.count(5)\n",
    "print(num)"
   ]
  },
  {
   "cell_type": "markdown",
   "id": "b078cb6b-e21d-49d7-8b7d-c18f330e59c3",
   "metadata": {},
   "source": [
    "#### 扩展 extend"
   ]
  },
  {
   "cell_type": "code",
   "execution_count": 5,
   "id": "6606b21c-e0ff-4c64-b811-f255194d64c6",
   "metadata": {},
   "outputs": [
    {
     "name": "stdout",
     "output_type": "stream",
     "text": [
      "['你好', 'Python']\n"
     ]
    }
   ],
   "source": [
    "list1 = ['你好']\n",
    "list2 = ['Python']\n",
    "list1.extend(list2)\n",
    "print(list1)"
   ]
  },
  {
   "cell_type": "markdown",
   "id": "583cbb55-7022-42f1-9db3-625a8af1bb17",
   "metadata": {},
   "source": [
    "#### 查找 index"
   ]
  },
  {
   "cell_type": "code",
   "execution_count": 6,
   "id": "1bc26c06-ac7a-4396-8bf2-ae709d7c636a",
   "metadata": {},
   "outputs": [
    {
     "name": "stdout",
     "output_type": "stream",
     "text": [
      "1\n"
     ]
    }
   ],
   "source": [
    "list = ['Python', 'Token', 'Java']\n",
    "index = list.index('Token')\n",
    "print(index)"
   ]
  },
  {
   "cell_type": "markdown",
   "id": "a938d12b-8269-4e80-9447-b0621f9cc3bc",
   "metadata": {},
   "source": [
    "#### 插入 insert"
   ]
  },
  {
   "cell_type": "code",
   "execution_count": 7,
   "id": "81ca52ca-2eb3-4b9f-823f-d8926627122c",
   "metadata": {},
   "outputs": [
    {
     "name": "stdout",
     "output_type": "stream",
     "text": [
      "[1, 2, 3, 4, 555, 6]\n"
     ]
    }
   ],
   "source": [
    "list = [1,2,3,4,6]\n",
    "list.insert(4,555)\n",
    "print(list)"
   ]
  },
  {
   "cell_type": "markdown",
   "id": "29059d4e-1c07-4a07-a794-0310a76b62a7",
   "metadata": {},
   "source": [
    "#### 弹出 pop"
   ]
  },
  {
   "cell_type": "code",
   "execution_count": 8,
   "id": "7d774a43-fdfa-487d-bf7e-15d435bb9853",
   "metadata": {},
   "outputs": [
    {
     "name": "stdout",
     "output_type": "stream",
     "text": [
      "[1, 2, 3, 4]\n"
     ]
    }
   ],
   "source": [
    "list = [1,2,3,4,999]\n",
    "list.pop()\n",
    "\n",
    "print(list)"
   ]
  },
  {
   "cell_type": "markdown",
   "id": "db07ed98-66b5-4155-a153-b04392cfe28f",
   "metadata": {},
   "source": [
    "#### 删除第一个“指定值”元素 remove"
   ]
  },
  {
   "cell_type": "code",
   "execution_count": 9,
   "id": "f9ba9716-b0cc-4c89-911c-193f5ac2f32b",
   "metadata": {},
   "outputs": [
    {
     "name": "stdout",
     "output_type": "stream",
     "text": [
      "['Java', 'Javascript']\n"
     ]
    }
   ],
   "source": [
    "list = ['Python','Java','Javascript']\n",
    "list.remove('Python')\n",
    "\n",
    "print(list)"
   ]
  },
  {
   "cell_type": "markdown",
   "id": "43d5672e-286f-45ba-8f6c-05000b0de100",
   "metadata": {},
   "source": [
    "#### 翻转 reverse"
   ]
  },
  {
   "cell_type": "code",
   "execution_count": 10,
   "id": "31102d61-5e06-464e-8af5-aa6d53e647a6",
   "metadata": {},
   "outputs": [
    {
     "name": "stdout",
     "output_type": "stream",
     "text": [
      "[6, 5, 4, 3, 2, 1]\n"
     ]
    }
   ],
   "source": [
    "list = [1,2,3,4,5,6]\n",
    "list.reverse()\n",
    "\n",
    "print(list)"
   ]
  },
  {
   "cell_type": "markdown",
   "id": "630cd3f3-c0f6-474d-ae88-d7bc99785c90",
   "metadata": {},
   "source": [
    "#### 排序 sort"
   ]
  },
  {
   "cell_type": "code",
   "execution_count": 11,
   "id": "a5ee0f38-2d68-4573-8a90-219944fb5624",
   "metadata": {},
   "outputs": [
    {
     "name": "stdout",
     "output_type": "stream",
     "text": [
      "[1, 3, 9, 10, 11]\n"
     ]
    }
   ],
   "source": [
    "num = [1,9, 11, 3, 10]\n",
    "# num.sort(key= lambda x: x*(-1))\n",
    "num.sort(reverse=False)\n",
    "print(num)"
   ]
  },
  {
   "cell_type": "markdown",
   "id": "bff638a8-e856-4962-8b1a-d35b900623be",
   "metadata": {},
   "source": [
    "## 1.2 元组"
   ]
  },
  {
   "cell_type": "markdown",
   "id": "2d9e0b89-92a4-4f30-9aec-a48ffe674ce3",
   "metadata": {},
   "source": [
    "tuple一旦初始化就不能修改"
   ]
  },
  {
   "cell_type": "code",
   "execution_count": 12,
   "id": "950b05e6-7073-4daa-ad79-c618e7378cd9",
   "metadata": {},
   "outputs": [
    {
     "name": "stdout",
     "output_type": "stream",
     "text": [
      "(1, 2, 3, 4)\n"
     ]
    }
   ],
   "source": [
    "tuple1 = (1,2,3,4)\n",
    "\n",
    "print(tuple1)"
   ]
  },
  {
   "cell_type": "markdown",
   "id": "b444ffd6-b83a-44f3-a8ab-d1d0b02c29db",
   "metadata": {},
   "source": [
    "## 1.3 字符串"
   ]
  },
  {
   "cell_type": "markdown",
   "id": "7e1eb59f-9db3-4cb0-a09b-5c1925b0dfa1",
   "metadata": {},
   "source": [
    "### 1.3.1 基础"
   ]
  },
  {
   "cell_type": "code",
   "execution_count": 13,
   "id": "c480a125-d847-4d2a-9420-dff33b88d66f",
   "metadata": {},
   "outputs": [],
   "source": [
    "str = '123123'"
   ]
  },
  {
   "cell_type": "markdown",
   "id": "cea62c05-c104-4d94-9446-f8b295fb68e7",
   "metadata": {},
   "source": [
    "### 1.3.2 常用方法"
   ]
  },
  {
   "cell_type": "markdown",
   "id": "01a645b7-5edd-44d1-a89d-3ea4e07a6252",
   "metadata": {},
   "source": [
    "#### 切片"
   ]
  },
  {
   "cell_type": "code",
   "execution_count": 14,
   "id": "8caf65f2-5cb9-49cb-8854-750964cc88fa",
   "metadata": {},
   "outputs": [
    {
     "name": "stdout",
     "output_type": "stream",
     "text": [
      "123\n"
     ]
    }
   ],
   "source": [
    "str = '123456'\n",
    "print(str[0:3])"
   ]
  },
  {
   "cell_type": "markdown",
   "id": "12f73190-2268-428e-8fc7-f30d74309058",
   "metadata": {},
   "source": [
    "#### 格式化 format"
   ]
  },
  {
   "cell_type": "code",
   "execution_count": 15,
   "id": "7c07cc40-ef44-4af7-840b-3a7c358a6fbe",
   "metadata": {},
   "outputs": [
    {
     "name": "stdout",
     "output_type": "stream",
     "text": [
      "广元有蒸凉面,武则天,剑门关\n"
     ]
    }
   ],
   "source": [
    "str = \"广元有{0},{2},{1}\"\n",
    "list = [\"蒸凉面\",\"剑门关\",\"武则天\"]\n",
    "res = str.format(*list)\n",
    "print(res)"
   ]
  },
  {
   "cell_type": "code",
   "execution_count": 16,
   "id": "c18fb2d2-9853-4b43-90cd-6c2eb61f7a76",
   "metadata": {},
   "outputs": [
    {
     "name": "stdout",
     "output_type": "stream",
     "text": [
      "广元有蒸凉面,剑门关,武则天\n"
     ]
    }
   ],
   "source": [
    "str = \"广元有{food},{scenery},{people}\"\n",
    "dict = {\"food\":\"蒸凉面\",\"scenery\":\"剑门关\",\"people\":\"武则天\"}\n",
    "res = str.format(**dict)\n",
    "print(res)"
   ]
  },
  {
   "cell_type": "code",
   "execution_count": 17,
   "id": "6e8851f6-2ace-4084-a9aa-2e312656d252",
   "metadata": {},
   "outputs": [
    {
     "name": "stdout",
     "output_type": "stream",
     "text": [
      "3.1416\n"
     ]
    }
   ],
   "source": [
    "PI = 3.1415926\n",
    "str = \"{:.4f}\".format(PI)\n",
    "\n",
    "print(str)"
   ]
  },
  {
   "cell_type": "markdown",
   "id": "b9061735-0981-4742-b507-7ede30d22609",
   "metadata": {},
   "source": [
    "#### 查找特定值 find\n",
    "find(self, sub, start=None, end=None)"
   ]
  },
  {
   "cell_type": "code",
   "execution_count": 18,
   "id": "1e9524e6-f716-49d7-8e71-e0ec23c85dac",
   "metadata": {},
   "outputs": [
    {
     "name": "stdout",
     "output_type": "stream",
     "text": [
      "2 -1\n"
     ]
    }
   ],
   "source": [
    "str = '一庭春雨，满架秋风'\n",
    "\n",
    "res1 = str.find(\"春雨\",1,5)\n",
    "res2 = str.find(\"夏雨\")\n",
    "\n",
    "print(res1,res2)"
   ]
  },
  {
   "cell_type": "markdown",
   "id": "1b38f774-40e1-48ef-972b-9a5a0b4f14eb",
   "metadata": {},
   "source": [
    "#### join"
   ]
  },
  {
   "cell_type": "code",
   "execution_count": 31,
   "id": "6a673d93-adc3-45ee-8530-db84d1ed6740",
   "metadata": {},
   "outputs": [
    {
     "name": "stdout",
     "output_type": "stream",
     "text": [
      "lawer and teacher and player\n"
     ]
    }
   ],
   "source": [
    "jobs = ['lawer','teacher',\"player\"]\n",
    "str = ' and '.join(jobs)\n",
    "\n",
    "print(str)"
   ]
  },
  {
   "cell_type": "markdown",
   "id": "cd9631ed-e748-4ac3-aa7c-a699015f67d5",
   "metadata": {},
   "source": [
    "#### 转大小写 lower upper"
   ]
  },
  {
   "cell_type": "code",
   "execution_count": 35,
   "id": "d5198ccb-6caa-40e2-9654-d5cbbe0da119",
   "metadata": {},
   "outputs": [
    {
     "name": "stdout",
     "output_type": "stream",
     "text": [
      "such a beautiful girl \n",
      " SUCH A BEAUTIFUL GIRL\n"
     ]
    }
   ],
   "source": [
    "str = 'Such a beautiful girl'\n",
    "res1 = str.lower()\n",
    "res2 = str.upper()\n",
    "\n",
    "print(res1,'\\n',res2)"
   ]
  },
  {
   "cell_type": "markdown",
   "id": "f1898f63-e5a5-464a-9058-a12d2ff1bf36",
   "metadata": {},
   "source": [
    "#### 替换 replace\n",
    "replace(self, old, new, count=None) return newStr\n",
    "\n",
    "注意：\n",
    "+ 原字符串不变，返回替换后的字符串\n",
    "+ 方法replace用于将字符串中的某子串进行替换，默认替换指定的所有子串。old为旧的字符串，new为新的字符串，count为替换的次数。"
   ]
  },
  {
   "cell_type": "code",
   "execution_count": 41,
   "id": "a977e2b6-7642-49a1-86a3-1eb9968b28f7",
   "metadata": {},
   "outputs": [
    {
     "name": "stdout",
     "output_type": "stream",
     "text": [
      "Adam天天睡觉不洗澡，Adam他妈天天日决他，Adam他妈天天劝Adam他爸\n"
     ]
    }
   ],
   "source": [
    "word = '博文'\n",
    "newWord = 'Adam'\n",
    "str = '博文天天睡觉不洗澡，博文他妈天天日决他，博文他妈天天劝博文他爸'\n",
    "newStr = str.replace(word,newWord)\n",
    "\n",
    "print(newStr)"
   ]
  },
  {
   "cell_type": "markdown",
   "id": "eac54127-bd92-4cd8-90a8-4611ef770dc9",
   "metadata": {},
   "source": [
    "#### 分割 split\n",
    "\n",
    "split(self, sep=None, maxsplit=-1)\n",
    "maxsplit为最多分隔的次数，-1表示全部分隔。"
   ]
  },
  {
   "cell_type": "code",
   "execution_count": 44,
   "id": "4a2bad13-c403-431a-85a7-3a6741b4dfb5",
   "metadata": {},
   "outputs": [
    {
     "name": "stdout",
     "output_type": "stream",
     "text": [
      "['天津', '上海', '广州', '广元']\n"
     ]
    }
   ],
   "source": [
    "str = '天津、上海、广州、广元'\n",
    "citys = str.split('、')\n",
    "\n",
    "print(citys)"
   ]
  },
  {
   "cell_type": "markdown",
   "id": "674449e1-cf8a-4cf3-a2f1-74ba6e8385b7",
   "metadata": {},
   "source": [
    "#### 移除开头结尾指定字符 strip"
   ]
  },
  {
   "cell_type": "code",
   "execution_count": 45,
   "id": "6621d806-7a88-4df0-a003-3e40eab7d159",
   "metadata": {},
   "outputs": [
    {
     "name": "stdout",
     "output_type": "stream",
     "text": [
      "a\n"
     ]
    }
   ],
   "source": [
    "str = \"       a        \"\n",
    "newStr = str.strip(\" \")\n",
    "\n",
    "print(newStr)"
   ]
  },
  {
   "cell_type": "markdown",
   "id": "f666d021-8594-4136-b56b-744d246b8ce1",
   "metadata": {},
   "source": [
    "#### 字符替换 translate\n",
    "\n",
    "translate(self, table)\n",
    "\n",
    "方法translate根据由maketrans函数生成的对照表table完成字符替换，table 是对照表，是由maketrans函数生成。\n",
    "\n",
    "注意：\n",
    "+ 要求对照表字符len一样（扯淡！！！）"
   ]
  },
  {
   "cell_type": "code",
   "execution_count": 49,
   "id": "0ea1dfce-2fc8-41f1-8c16-25d1262946f3",
   "metadata": {},
   "outputs": [
    {
     "name": "stdout",
     "output_type": "stream",
     "text": [
      "阿文天天睡觉不洗澡，阿文他妈天天日决他，阿文他妈天天劝阿文他爸\n"
     ]
    }
   ],
   "source": [
    "table = str.maketrans(\"博文\",\"阿文\")\n",
    "str = '博文天天睡觉不洗澡，博文他妈天天日决他，博文他妈天天劝博文他爸'\n",
    "res = str.translate(table)\n",
    "\n",
    "print(res)"
   ]
  },
  {
   "cell_type": "markdown",
   "id": "6d7a9749-a255-4006-86c5-9f0e4f1e2936",
   "metadata": {},
   "source": [
    "# 其他"
   ]
  },
  {
   "cell_type": "markdown",
   "id": "6e9bc912-a5a0-40c3-ba80-542f3182b7fe",
   "metadata": {},
   "source": [
    "## 星号`*`、`**`的用途"
   ]
  },
  {
   "cell_type": "markdown",
   "id": "9b212282-8e54-46d5-af4b-352437d859b8",
   "metadata": {},
   "source": [
    "1. `*`号\n",
    "   + 乘法\n",
    "   + 解包list、tuple、str\n",
    "   + 定义函数时，收集参数\n",
    "   + 调用函数时，分配参数\n",
    "2. `**`号\n",
    "   + 幂\n",
    "   + 解包dict\n",
    "   + 定义函数时，关键字参数\n",
    "   + 调用函数时，分配参数"
   ]
  },
  {
   "cell_type": "code",
   "execution_count": null,
   "id": "81a46b22-ac3e-4634-b308-c891c99a4dc4",
   "metadata": {},
   "outputs": [],
   "source": []
  }
 ],
 "metadata": {
  "kernelspec": {
   "display_name": "Python 3 (ipykernel)",
   "language": "python",
   "name": "python3"
  },
  "language_info": {
   "codemirror_mode": {
    "name": "ipython",
    "version": 3
   },
   "file_extension": ".py",
   "mimetype": "text/x-python",
   "name": "python",
   "nbconvert_exporter": "python",
   "pygments_lexer": "ipython3",
   "version": "3.12.7"
  }
 },
 "nbformat": 4,
 "nbformat_minor": 5
}
