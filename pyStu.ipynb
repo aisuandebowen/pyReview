{
 "cells": [
  {
   "cell_type": "markdown",
   "id": "51c6fe81-fef3-4079-80da-b0f9b3d203e8",
   "metadata": {},
   "source": [
    "# 一、 数据类型"
   ]
  },
  {
   "cell_type": "markdown",
   "id": "675086da-bd07-4f14-b3bb-0e32a14df47a",
   "metadata": {},
   "source": [
    "## 1.1 列表"
   ]
  },
  {
   "cell_type": "markdown",
   "id": "f426aa12-0e91-4c50-8af5-520febf3c47d",
   "metadata": {},
   "source": [
    "### 1.1.1 基础"
   ]
  },
  {
   "cell_type": "code",
   "execution_count": 1,
   "id": "62ef6c5f-0b34-4504-8cef-0c10b253e296",
   "metadata": {},
   "outputs": [
    {
     "name": "stdout",
     "output_type": "stream",
     "text": [
      "[111]\n",
      "[3, 4]\n",
      "[111, 3, '你', '好']\n",
      "[111, 3, 999, '你', '好']\n"
     ]
    }
   ],
   "source": [
    "list = ['1',2,3,4]\n",
    "list[0] = 111\n",
    "del list[1]\n",
    "print(list[0:1])  # 左闭右开\n",
    "print(list[1:])\n",
    "list[2:] = ['你','好']\n",
    "print(list)\n",
    "list[2:2] = [999] # 插入\n",
    "print(list)"
   ]
  },
  {
   "cell_type": "markdown",
   "id": "03758224-287b-4b09-8303-4bff173c71f7",
   "metadata": {},
   "source": [
    "### 1.1.2 常用方法"
   ]
  },
  {
   "cell_type": "markdown",
   "id": "e74433c8-f687-4232-b8ec-0fc8320786c2",
   "metadata": {},
   "source": [
    "#### 添加 append"
   ]
  },
  {
   "cell_type": "code",
   "execution_count": 2,
   "id": "90e05f6a-6ccf-4ad3-acb3-872d205a05d7",
   "metadata": {},
   "outputs": [
    {
     "name": "stdout",
     "output_type": "stream",
     "text": [
      "[1, 2, 3, 4, 5, 111]\n"
     ]
    }
   ],
   "source": [
    "list = [1,2,3,4,5]\n",
    "box = 111\n",
    "list.append(box)\n",
    "print(list)"
   ]
  },
  {
   "cell_type": "markdown",
   "id": "c27d886b-fc87-4bd1-9fb6-0abf28896c99",
   "metadata": {},
   "source": [
    "#### 清空 clear"
   ]
  },
  {
   "cell_type": "code",
   "execution_count": 3,
   "id": "2e651a8c-df6b-4afc-98ee-5d9985251c86",
   "metadata": {},
   "outputs": [
    {
     "name": "stdout",
     "output_type": "stream",
     "text": [
      "[]\n"
     ]
    }
   ],
   "source": [
    "list = [1,2,3,4,5]\n",
    "list.clear()\n",
    "print(list)"
   ]
  },
  {
   "cell_type": "markdown",
   "id": "a8fa18e0-6345-40a0-b214-a99c60e8d314",
   "metadata": {},
   "source": [
    "#### 计数 count（某元素出现次数）"
   ]
  },
  {
   "cell_type": "code",
   "execution_count": 4,
   "id": "fc684b72-1b02-4a54-8ef5-6511db50bde7",
   "metadata": {},
   "outputs": [
    {
     "name": "stdout",
     "output_type": "stream",
     "text": [
      "5\n"
     ]
    }
   ],
   "source": [
    "list = [1,2,3,4,5,5,5,5,5]\n",
    "num = list.count(5)\n",
    "print(num)"
   ]
  },
  {
   "cell_type": "markdown",
   "id": "b078cb6b-e21d-49d7-8b7d-c18f330e59c3",
   "metadata": {},
   "source": [
    "#### 扩展 extend"
   ]
  },
  {
   "cell_type": "code",
   "execution_count": 5,
   "id": "6606b21c-e0ff-4c64-b811-f255194d64c6",
   "metadata": {},
   "outputs": [
    {
     "name": "stdout",
     "output_type": "stream",
     "text": [
      "['你好', 'Python']\n"
     ]
    }
   ],
   "source": [
    "list1 = ['你好']\n",
    "list2 = ['Python']\n",
    "list1.extend(list2)\n",
    "print(list1)"
   ]
  },
  {
   "cell_type": "markdown",
   "id": "583cbb55-7022-42f1-9db3-625a8af1bb17",
   "metadata": {},
   "source": [
    "#### 查找 index"
   ]
  },
  {
   "cell_type": "code",
   "execution_count": 6,
   "id": "1bc26c06-ac7a-4396-8bf2-ae709d7c636a",
   "metadata": {},
   "outputs": [
    {
     "name": "stdout",
     "output_type": "stream",
     "text": [
      "1\n"
     ]
    }
   ],
   "source": [
    "list = ['Python', 'Token', 'Java']\n",
    "index = list.index('Token')\n",
    "print(index)"
   ]
  },
  {
   "cell_type": "markdown",
   "id": "a938d12b-8269-4e80-9447-b0621f9cc3bc",
   "metadata": {},
   "source": [
    "#### 插入 insert"
   ]
  },
  {
   "cell_type": "code",
   "execution_count": 7,
   "id": "81ca52ca-2eb3-4b9f-823f-d8926627122c",
   "metadata": {},
   "outputs": [
    {
     "name": "stdout",
     "output_type": "stream",
     "text": [
      "[1, 2, 3, 4, 555, 6]\n"
     ]
    }
   ],
   "source": [
    "list = [1,2,3,4,6]\n",
    "list.insert(4,555)\n",
    "print(list)"
   ]
  },
  {
   "cell_type": "markdown",
   "id": "29059d4e-1c07-4a07-a794-0310a76b62a7",
   "metadata": {},
   "source": [
    "#### 弹出 pop"
   ]
  },
  {
   "cell_type": "code",
   "execution_count": 8,
   "id": "7d774a43-fdfa-487d-bf7e-15d435bb9853",
   "metadata": {},
   "outputs": [
    {
     "name": "stdout",
     "output_type": "stream",
     "text": [
      "[1, 2, 3, 4]\n"
     ]
    }
   ],
   "source": [
    "list = [1,2,3,4,999]\n",
    "list.pop()\n",
    "\n",
    "print(list)"
   ]
  },
  {
   "cell_type": "markdown",
   "id": "db07ed98-66b5-4155-a153-b04392cfe28f",
   "metadata": {},
   "source": [
    "#### 删除第一个“指定值”元素 remove"
   ]
  },
  {
   "cell_type": "code",
   "execution_count": 9,
   "id": "f9ba9716-b0cc-4c89-911c-193f5ac2f32b",
   "metadata": {},
   "outputs": [
    {
     "name": "stdout",
     "output_type": "stream",
     "text": [
      "['Java', 'Javascript']\n"
     ]
    }
   ],
   "source": [
    "list = ['Python','Java','Javascript']\n",
    "list.remove('Python')\n",
    "\n",
    "print(list)"
   ]
  },
  {
   "cell_type": "markdown",
   "id": "43d5672e-286f-45ba-8f6c-05000b0de100",
   "metadata": {},
   "source": [
    "#### 翻转 reverse"
   ]
  },
  {
   "cell_type": "code",
   "execution_count": 10,
   "id": "31102d61-5e06-464e-8af5-aa6d53e647a6",
   "metadata": {},
   "outputs": [
    {
     "name": "stdout",
     "output_type": "stream",
     "text": [
      "[6, 5, 4, 3, 2, 1]\n"
     ]
    }
   ],
   "source": [
    "list = [1,2,3,4,5,6]\n",
    "list.reverse()\n",
    "\n",
    "print(list)"
   ]
  },
  {
   "cell_type": "markdown",
   "id": "630cd3f3-c0f6-474d-ae88-d7bc99785c90",
   "metadata": {},
   "source": [
    "#### 排序 sort"
   ]
  },
  {
   "cell_type": "code",
   "execution_count": 11,
   "id": "a5ee0f38-2d68-4573-8a90-219944fb5624",
   "metadata": {},
   "outputs": [
    {
     "name": "stdout",
     "output_type": "stream",
     "text": [
      "[1, 3, 9, 10, 11]\n"
     ]
    }
   ],
   "source": [
    "num = [1,9, 11, 3, 10]\n",
    "# num.sort(key= lambda x: x*(-1))\n",
    "num.sort(reverse=False)\n",
    "print(num)"
   ]
  },
  {
   "cell_type": "markdown",
   "id": "bff638a8-e856-4962-8b1a-d35b900623be",
   "metadata": {},
   "source": [
    "## 1.2 元组"
   ]
  },
  {
   "cell_type": "markdown",
   "id": "2d9e0b89-92a4-4f30-9aec-a48ffe674ce3",
   "metadata": {},
   "source": [
    "tuple一旦初始化就不能修改"
   ]
  },
  {
   "cell_type": "code",
   "execution_count": 12,
   "id": "950b05e6-7073-4daa-ad79-c618e7378cd9",
   "metadata": {},
   "outputs": [
    {
     "name": "stdout",
     "output_type": "stream",
     "text": [
      "(1, 2, 3, 4)\n"
     ]
    }
   ],
   "source": [
    "tuple1 = (1,2,3,4)\n",
    "\n",
    "print(tuple1)"
   ]
  },
  {
   "cell_type": "markdown",
   "id": "b444ffd6-b83a-44f3-a8ab-d1d0b02c29db",
   "metadata": {},
   "source": [
    "## 1.3 字符串"
   ]
  },
  {
   "cell_type": "markdown",
   "id": "7e1eb59f-9db3-4cb0-a09b-5c1925b0dfa1",
   "metadata": {},
   "source": [
    "### 1.3.1 基础"
   ]
  },
  {
   "cell_type": "code",
   "execution_count": 13,
   "id": "c480a125-d847-4d2a-9420-dff33b88d66f",
   "metadata": {},
   "outputs": [],
   "source": [
    "str = '123123'"
   ]
  },
  {
   "cell_type": "markdown",
   "id": "cea62c05-c104-4d94-9446-f8b295fb68e7",
   "metadata": {},
   "source": [
    "### 1.3.2 常用方法"
   ]
  },
  {
   "cell_type": "markdown",
   "id": "01a645b7-5edd-44d1-a89d-3ea4e07a6252",
   "metadata": {},
   "source": [
    "#### 切片"
   ]
  },
  {
   "cell_type": "code",
   "execution_count": 14,
   "id": "8caf65f2-5cb9-49cb-8854-750964cc88fa",
   "metadata": {},
   "outputs": [
    {
     "name": "stdout",
     "output_type": "stream",
     "text": [
      "123\n"
     ]
    }
   ],
   "source": [
    "str = '123456'\n",
    "print(str[0:3])"
   ]
  },
  {
   "cell_type": "markdown",
   "id": "12f73190-2268-428e-8fc7-f30d74309058",
   "metadata": {},
   "source": [
    "#### 格式化 format"
   ]
  },
  {
   "cell_type": "code",
   "execution_count": 15,
   "id": "7c07cc40-ef44-4af7-840b-3a7c358a6fbe",
   "metadata": {},
   "outputs": [
    {
     "name": "stdout",
     "output_type": "stream",
     "text": [
      "广元有蒸凉面,武则天,剑门关\n"
     ]
    }
   ],
   "source": [
    "str = \"广元有{0},{2},{1}\"\n",
    "list = [\"蒸凉面\",\"剑门关\",\"武则天\"]\n",
    "res = str.format(*list)\n",
    "print(res)"
   ]
  },
  {
   "cell_type": "code",
   "execution_count": 16,
   "id": "c18fb2d2-9853-4b43-90cd-6c2eb61f7a76",
   "metadata": {},
   "outputs": [
    {
     "name": "stdout",
     "output_type": "stream",
     "text": [
      "广元有蒸凉面,剑门关,武则天\n"
     ]
    }
   ],
   "source": [
    "str = \"广元有{food},{scenery},{people}\"\n",
    "dict = {\"food\":\"蒸凉面\",\"scenery\":\"剑门关\",\"people\":\"武则天\"}\n",
    "res = str.format(**dict)\n",
    "print(res)"
   ]
  },
  {
   "cell_type": "code",
   "execution_count": 17,
   "id": "6e8851f6-2ace-4084-a9aa-2e312656d252",
   "metadata": {},
   "outputs": [
    {
     "name": "stdout",
     "output_type": "stream",
     "text": [
      "3.1416\n"
     ]
    }
   ],
   "source": [
    "PI = 3.1415926\n",
    "str = \"{:.4f}\".format(PI)\n",
    "\n",
    "print(str)"
   ]
  },
  {
   "cell_type": "markdown",
   "id": "b9061735-0981-4742-b507-7ede30d22609",
   "metadata": {},
   "source": [
    "#### 查找特定值 find\n",
    "find(self, sub, start=None, end=None)"
   ]
  },
  {
   "cell_type": "code",
   "execution_count": 18,
   "id": "1e9524e6-f716-49d7-8e71-e0ec23c85dac",
   "metadata": {},
   "outputs": [
    {
     "name": "stdout",
     "output_type": "stream",
     "text": [
      "2 -1\n"
     ]
    }
   ],
   "source": [
    "str = '一庭春雨，满架秋风'\n",
    "\n",
    "res1 = str.find(\"春雨\",1,5)\n",
    "res2 = str.find(\"夏雨\")\n",
    "\n",
    "print(res1,res2)"
   ]
  },
  {
   "cell_type": "markdown",
   "id": "1b38f774-40e1-48ef-972b-9a5a0b4f14eb",
   "metadata": {},
   "source": [
    "#### join"
   ]
  },
  {
   "cell_type": "code",
   "execution_count": 19,
   "id": "6a673d93-adc3-45ee-8530-db84d1ed6740",
   "metadata": {},
   "outputs": [
    {
     "name": "stdout",
     "output_type": "stream",
     "text": [
      "lawer and teacher and player\n"
     ]
    }
   ],
   "source": [
    "jobs = ['lawer','teacher',\"player\"]\n",
    "str = ' and '.join(jobs)\n",
    "\n",
    "print(str)"
   ]
  },
  {
   "cell_type": "markdown",
   "id": "cd9631ed-e748-4ac3-aa7c-a699015f67d5",
   "metadata": {},
   "source": [
    "#### 转大小写 lower upper"
   ]
  },
  {
   "cell_type": "code",
   "execution_count": 20,
   "id": "d5198ccb-6caa-40e2-9654-d5cbbe0da119",
   "metadata": {},
   "outputs": [
    {
     "name": "stdout",
     "output_type": "stream",
     "text": [
      "such a beautiful girl \n",
      " SUCH A BEAUTIFUL GIRL\n"
     ]
    }
   ],
   "source": [
    "str = 'Such a beautiful girl'\n",
    "res1 = str.lower()\n",
    "res2 = str.upper()\n",
    "\n",
    "print(res1,'\\n',res2)"
   ]
  },
  {
   "cell_type": "markdown",
   "id": "f1898f63-e5a5-464a-9058-a12d2ff1bf36",
   "metadata": {},
   "source": [
    "#### 替换 replace\n",
    "replace(self, old, new, count=None) return newStr\n",
    "\n",
    "注意：\n",
    "+ 原字符串不变，返回替换后的字符串\n",
    "+ 方法replace用于将字符串中的某子串进行替换，默认替换指定的所有子串。old为旧的字符串，new为新的字符串，count为替换的次数。"
   ]
  },
  {
   "cell_type": "code",
   "execution_count": 21,
   "id": "a977e2b6-7642-49a1-86a3-1eb9968b28f7",
   "metadata": {},
   "outputs": [
    {
     "name": "stdout",
     "output_type": "stream",
     "text": [
      "Adam天天睡觉不洗澡，Adam他妈天天日决他，Adam他妈天天劝Adam他爸\n"
     ]
    }
   ],
   "source": [
    "word = '博文'\n",
    "newWord = 'Adam'\n",
    "str = '博文天天睡觉不洗澡，博文他妈天天日决他，博文他妈天天劝博文他爸'\n",
    "newStr = str.replace(word,newWord)\n",
    "\n",
    "print(newStr)"
   ]
  },
  {
   "cell_type": "markdown",
   "id": "eac54127-bd92-4cd8-90a8-4611ef770dc9",
   "metadata": {},
   "source": [
    "#### 分割 split\n",
    "\n",
    "split(self, sep=None, maxsplit=-1)\n",
    "maxsplit为最多分隔的次数，-1表示全部分隔。"
   ]
  },
  {
   "cell_type": "code",
   "execution_count": 22,
   "id": "4a2bad13-c403-431a-85a7-3a6741b4dfb5",
   "metadata": {},
   "outputs": [
    {
     "name": "stdout",
     "output_type": "stream",
     "text": [
      "['天津', '上海', '广州', '广元']\n"
     ]
    }
   ],
   "source": [
    "str = '天津、上海、广州、广元'\n",
    "citys = str.split('、')\n",
    "\n",
    "print(citys)"
   ]
  },
  {
   "cell_type": "markdown",
   "id": "674449e1-cf8a-4cf3-a2f1-74ba6e8385b7",
   "metadata": {},
   "source": [
    "#### 移除开头结尾指定字符 strip"
   ]
  },
  {
   "cell_type": "code",
   "execution_count": 23,
   "id": "6621d806-7a88-4df0-a003-3e40eab7d159",
   "metadata": {},
   "outputs": [
    {
     "name": "stdout",
     "output_type": "stream",
     "text": [
      "a\n"
     ]
    }
   ],
   "source": [
    "str = \"       a        \"\n",
    "newStr = str.strip(\" \")\n",
    "\n",
    "print(newStr)"
   ]
  },
  {
   "cell_type": "markdown",
   "id": "f666d021-8594-4136-b56b-744d246b8ce1",
   "metadata": {},
   "source": [
    "#### 字符替换 translate\n",
    "\n",
    "translate(self, table)\n",
    "\n",
    "方法translate根据由maketrans函数生成的对照表table完成字符替换，table 是对照表，是由maketrans函数生成。\n",
    "\n",
    "注意：\n",
    "+ 要求对照表字符len一样（扯淡！！！）"
   ]
  },
  {
   "cell_type": "code",
   "execution_count": 24,
   "id": "0ea1dfce-2fc8-41f1-8c16-25d1262946f3",
   "metadata": {},
   "outputs": [
    {
     "name": "stdout",
     "output_type": "stream",
     "text": [
      "阿文天天睡觉不洗澡，阿文他妈天天日决他，阿文他妈天天劝阿文他爸\n"
     ]
    }
   ],
   "source": [
    "table = str.maketrans(\"博文\",\"阿文\")\n",
    "str = '博文天天睡觉不洗澡，博文他妈天天日决他，博文他妈天天劝博文他爸'\n",
    "res = str.translate(table)\n",
    "\n",
    "print(res)"
   ]
  },
  {
   "cell_type": "markdown",
   "id": "20afb451-e030-4157-8974-e17a204b8d41",
   "metadata": {},
   "source": [
    "## 1.4 字典"
   ]
  },
  {
   "cell_type": "markdown",
   "id": "670f75e4-a576-4eb4-b90b-fcd263b6a246",
   "metadata": {},
   "source": [
    "### 1.4.1 基础"
   ]
  },
  {
   "cell_type": "code",
   "execution_count": 25,
   "id": "b064d777-68b6-4a6f-b54a-91dbd22a7c83",
   "metadata": {},
   "outputs": [],
   "source": [
    "dic = {'name': 'Adam', 'age': '15'}"
   ]
  },
  {
   "cell_type": "markdown",
   "id": "433e92d3-6301-4876-97b5-912df3c9bb16",
   "metadata": {},
   "source": [
    "### 1.4.2 常用方法"
   ]
  },
  {
   "cell_type": "markdown",
   "id": "a0ef4d8f-6c36-44b5-bdc7-ec709bdff0e4",
   "metadata": {},
   "source": [
    "#### 清空 clear"
   ]
  },
  {
   "cell_type": "code",
   "execution_count": 26,
   "id": "bbf81b83-368c-47b0-a481-3d1855fa4710",
   "metadata": {},
   "outputs": [
    {
     "name": "stdout",
     "output_type": "stream",
     "text": [
      "{}\n"
     ]
    }
   ],
   "source": [
    "dic = {'name': 'Adam', 'age': '15'}\n",
    "dic.clear()\n",
    "\n",
    "print(dic)"
   ]
  },
  {
   "cell_type": "markdown",
   "id": "fdf74ece-63e1-4a84-82cf-ad84f7b8c26a",
   "metadata": {},
   "source": [
    "#### 浅拷贝 copy"
   ]
  },
  {
   "cell_type": "code",
   "execution_count": 27,
   "id": "1f0296f9-bddc-4243-8d6e-21c1aa62ec3e",
   "metadata": {},
   "outputs": [
    {
     "name": "stdout",
     "output_type": "stream",
     "text": [
      "{'name': 'Adam', 'age': '15', 'obj': {'num': 88}}\n"
     ]
    }
   ],
   "source": [
    "dic = {'name': 'Adam', 'age': '15', 'obj':{'num':99}}\n",
    "dic2 = dic.copy()\n",
    "dic['obj']['num'] = 88\n",
    "\n",
    "print(dic2)"
   ]
  },
  {
   "cell_type": "markdown",
   "id": "36c042e5-7c8f-4683-8d5d-d3a18326bbeb",
   "metadata": {},
   "source": [
    "#### 创建新字典 fromkeys\n",
    "依据给定的键序列和可选的默认值来创建字典"
   ]
  },
  {
   "cell_type": "code",
   "execution_count": 28,
   "id": "2459c1c1-3124-4f2e-a8c0-d5688248c66a",
   "metadata": {},
   "outputs": [
    {
     "name": "stdout",
     "output_type": "stream",
     "text": [
      "{'Adam': 18, 'Douaa': 18}\n"
     ]
    }
   ],
   "source": [
    "items = ['Adam','Douaa']\n",
    "defaultAge = 18\n",
    "\n",
    "dic = dict.fromkeys(items,defaultAge)\n",
    "print(dic)"
   ]
  },
  {
   "cell_type": "markdown",
   "id": "785e492f-4b35-4b80-b142-6e5b42393764",
   "metadata": {},
   "source": [
    "#### 获取值 get"
   ]
  },
  {
   "cell_type": "code",
   "execution_count": 29,
   "id": "ab82fe82-4c5c-4253-8451-0b7b0b00ddca",
   "metadata": {},
   "outputs": [
    {
     "name": "stdout",
     "output_type": "stream",
     "text": [
      "Adam\n"
     ]
    }
   ],
   "source": [
    "dic = {'name': 'Adam', 'age': '15', 'obj':{'num':99}}\n",
    "value = dic.get('name')\n",
    "\n",
    "print(value)"
   ]
  },
  {
   "cell_type": "markdown",
   "id": "6841bc2f-e438-4f86-911c-36f40c46b306",
   "metadata": {},
   "source": [
    "#### 返回字典中键值对的视图 items\n",
    "视图以可迭代的形式呈现，其中每个元素是一个包含键和对应值的元组。"
   ]
  },
  {
   "cell_type": "code",
   "execution_count": 30,
   "id": "d504c3de-781c-4458-b962-33a054e9df0a",
   "metadata": {},
   "outputs": [
    {
     "name": "stdout",
     "output_type": "stream",
     "text": [
      "key:name, value:Adam\n",
      "key:age, value:15\n",
      "key:obj, value:{'num': 99}\n"
     ]
    }
   ],
   "source": [
    "dic = {'name': 'Adam', 'age': '15', 'obj':{'num':99}}\n",
    "list = dic.items()\n",
    "\n",
    "for key,value in list:\n",
    "    print(f\"key:{key}, value:{value}\")"
   ]
  },
  {
   "cell_type": "markdown",
   "id": "1b486c29-3dab-464d-9150-dbeb6e7d1562",
   "metadata": {},
   "source": [
    "#### 返回所有键 keys"
   ]
  },
  {
   "cell_type": "code",
   "execution_count": 31,
   "id": "f387ad1b-90f6-48a8-adb4-86012c014b0e",
   "metadata": {},
   "outputs": [
    {
     "name": "stdout",
     "output_type": "stream",
     "text": [
      "key:name, value:Adam\n",
      "key:age, value:15\n",
      "key:obj, value:{'num': 99}\n"
     ]
    }
   ],
   "source": [
    "dic = {'name': 'Adam', 'age': '15', 'obj':{'num':99}}\n",
    "keys = dic.keys()\n",
    "\n",
    "for key in keys:\n",
    "    print(f\"key:{key}, value:{dic[key]}\")"
   ]
  },
  {
   "cell_type": "markdown",
   "id": "c280660a-a429-4bb5-870f-c814b2919876",
   "metadata": {},
   "source": [
    "#### 返回所有值 values"
   ]
  },
  {
   "cell_type": "code",
   "execution_count": 32,
   "id": "aa20df02-acff-4f3e-b3ab-039fd11393d8",
   "metadata": {},
   "outputs": [
    {
     "name": "stdout",
     "output_type": "stream",
     "text": [
      "dict_values(['Adam', '15', {'num': 99}])\n"
     ]
    }
   ],
   "source": [
    "dic = {'name': 'Adam', 'age': '15', 'obj':{'num':99}}\n",
    "values = dic.values()\n",
    "\n",
    "print(values)"
   ]
  },
  {
   "cell_type": "markdown",
   "id": "68d64c13-aac2-44ab-af4d-737ccc2c62f5",
   "metadata": {},
   "source": [
    "#### 删除指定键值对 pop(self, key, default=None)"
   ]
  },
  {
   "cell_type": "code",
   "execution_count": 33,
   "id": "d7af598e-857c-4e37-b736-38deee03252c",
   "metadata": {},
   "outputs": [
    {
     "name": "stdout",
     "output_type": "stream",
     "text": [
      "{'age': '15', 'obj': {'num': 99}}\n"
     ]
    }
   ],
   "source": [
    "dic = {'name': 'Adam', 'age': '15', 'obj':{'num':99}}\n",
    "dic.pop('name')\n",
    "\n",
    "print(dic)"
   ]
  },
  {
   "cell_type": "markdown",
   "id": "61461230-1537-46d1-9285-d522f54d73c3",
   "metadata": {},
   "source": [
    "#### 查询值setdefault(self, key, default=None)\n",
    "\n",
    "查询值，不在扔进去 "
   ]
  },
  {
   "cell_type": "code",
   "execution_count": 34,
   "id": "fe6561b4-b20c-486b-a9d6-8b8b9b54259e",
   "metadata": {},
   "outputs": [
    {
     "name": "stdout",
     "output_type": "stream",
     "text": [
      "Douaa {'name': 'Adam', 'age': '15', 'obj': {'num': 99}, 'girl': 'Douaa'}\n"
     ]
    }
   ],
   "source": [
    "dic = {'name': 'Adam', 'age': '15', 'obj':{'num':99}}\n",
    "value = dic.setdefault('girl','Douaa')\n",
    "\n",
    "print(value,dic)"
   ]
  },
  {
   "cell_type": "markdown",
   "id": "1bed5611-e158-4c54-a689-be21af215770",
   "metadata": {},
   "source": [
    "#### 浅更新 update\n",
    "\n",
    "同名key，直接覆盖。原dict不存在的key，直接扔进去"
   ]
  },
  {
   "cell_type": "code",
   "execution_count": 35,
   "id": "dc184e0a-1ee3-4164-910c-c1afe66084fe",
   "metadata": {},
   "outputs": [
    {
     "name": "stdout",
     "output_type": "stream",
     "text": [
      "{'name': 'Douaa', 'age': '18', 'obj': {'num': 11}, 'birth': '3-10'}\n"
     ]
    }
   ],
   "source": [
    "dic = {'name': 'Adam', 'age': '15', 'obj':{'num':99,'num2':11}}\n",
    "dic2 = {'name':'Douaa','age':'18','birth':'3-10','obj':{'num':11}}\n",
    "dic.update(dic2)\n",
    "\n",
    "print(dic)"
   ]
  },
  {
   "cell_type": "markdown",
   "id": "6aa2bf4d-1552-4103-8d8b-f4e988c830e4",
   "metadata": {},
   "source": [
    "# 二、3大语句"
   ]
  },
  {
   "cell_type": "markdown",
   "id": "9af4be9b-6d6d-4dda-a9d8-3ae647eb3790",
   "metadata": {},
   "source": [
    "## 2.1 顺序语句"
   ]
  },
  {
   "cell_type": "markdown",
   "id": "bac8dfd4-ade9-4cd6-80a9-148c76e5842c",
   "metadata": {},
   "source": [
    "### 2.1.1 链式赋值(雷！狗都不用)"
   ]
  },
  {
   "cell_type": "code",
   "execution_count": 36,
   "id": "2340d1d2-a46b-49dd-940d-c29dbb994caa",
   "metadata": {},
   "outputs": [
    {
     "name": "stdout",
     "output_type": "stream",
     "text": [
      "1 1 1\n",
      "{'age': 11} {'age': 11} {'age': 11}\n"
     ]
    }
   ],
   "source": [
    "a = b = c= 1\n",
    "print(a,b,c)\n",
    "\n",
    "a = b = c = {'age':99}\n",
    "b['age'] = 11 \n",
    "\n",
    "print(a,b,c)"
   ]
  },
  {
   "cell_type": "markdown",
   "id": "c99e2030-6017-4d60-a88e-b719de2c9fad",
   "metadata": {},
   "source": [
    "## 2.2 条件语句"
   ]
  },
  {
   "cell_type": "code",
   "execution_count": 37,
   "id": "c3e647e8-cb46-47ab-bbf8-1435089136a5",
   "metadata": {},
   "outputs": [
    {
     "name": "stdout",
     "output_type": "stream",
     "text": [
      "hello China\n"
     ]
    }
   ],
   "source": [
    "flag = 1991\n",
    "\n",
    "if flag < 100 and True:\n",
    "    print('Hello Douaa')\n",
    "elif flag < 200 and 1==1:\n",
    "    print('Hello Adam')\n",
    "else:\n",
    "    print('hello China')"
   ]
  },
  {
   "cell_type": "markdown",
   "id": "35c272aa-997f-4003-b436-967407dee0a8",
   "metadata": {},
   "source": [
    "## 2.3 循环语句"
   ]
  },
  {
   "cell_type": "markdown",
   "id": "ecf30947-599e-4a3a-9840-c3b71adee9e6",
   "metadata": {},
   "source": [
    "### 跳出循环 break、continue"
   ]
  },
  {
   "cell_type": "markdown",
   "id": "1e53d0ce-129c-471b-8375-47dfa526aff0",
   "metadata": {},
   "source": [
    "### while循环"
   ]
  },
  {
   "cell_type": "code",
   "execution_count": 38,
   "id": "8fc1f66a-880f-4c60-bdb7-3ec95a1c5778",
   "metadata": {},
   "outputs": [
    {
     "name": "stdout",
     "output_type": "stream",
     "text": [
      "1\n",
      "2\n",
      "3\n",
      "end\n"
     ]
    }
   ],
   "source": [
    "num = 0\n",
    "\n",
    "while num < 3:\n",
    "    num +=1\n",
    "    print(num)\n",
    "else:\n",
    "    print('end')"
   ]
  },
  {
   "cell_type": "markdown",
   "id": "e66e004b-13be-4d93-b763-bf192a617ca0",
   "metadata": {},
   "source": [
    "### for循环"
   ]
  },
  {
   "cell_type": "code",
   "execution_count": 39,
   "id": "780d801b-4237-4abf-bc5d-945dac5626ef",
   "metadata": {},
   "outputs": [
    {
     "name": "stdout",
     "output_type": "stream",
     "text": [
      "1\n",
      "2\n",
      "3\n",
      "4\n",
      "5\n",
      "6\n",
      "7\n",
      "8\n",
      "9\n",
      "End\n"
     ]
    }
   ],
   "source": [
    "nums = range(1,10)\n",
    "for num in nums:\n",
    "    print(num)\n",
    "else:\n",
    "    print('End')"
   ]
  },
  {
   "cell_type": "markdown",
   "id": "6d7a9749-a255-4006-86c5-9f0e4f1e2936",
   "metadata": {},
   "source": [
    "# 其他"
   ]
  },
  {
   "cell_type": "markdown",
   "id": "6e9bc912-a5a0-40c3-ba80-542f3182b7fe",
   "metadata": {},
   "source": [
    "## 星号`*`、`**`的用途"
   ]
  },
  {
   "cell_type": "markdown",
   "id": "9b212282-8e54-46d5-af4b-352437d859b8",
   "metadata": {},
   "source": [
    "1. `*`号\n",
    "   + 乘法\n",
    "   + 解包list、tuple、str\n",
    "   + 定义函数时，收集参数\n",
    "   + 调用函数时，分配参数\n",
    "2. `**`号\n",
    "   + 幂\n",
    "   + 解包dict\n",
    "   + 定义函数时，关键字参数\n",
    "   + 调用函数时，分配参数"
   ]
  },
  {
   "cell_type": "code",
   "execution_count": null,
   "id": "81a46b22-ac3e-4634-b308-c891c99a4dc4",
   "metadata": {},
   "outputs": [],
   "source": []
  }
 ],
 "metadata": {
  "kernelspec": {
   "display_name": "Python 3 (ipykernel)",
   "language": "python",
   "name": "python3"
  },
  "language_info": {
   "codemirror_mode": {
    "name": "ipython",
    "version": 3
   },
   "file_extension": ".py",
   "mimetype": "text/x-python",
   "name": "python",
   "nbconvert_exporter": "python",
   "pygments_lexer": "ipython3",
   "version": "3.12.7"
  }
 },
 "nbformat": 4,
 "nbformat_minor": 5
}
