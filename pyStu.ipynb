{
 "cells": [
  {
   "cell_type": "markdown",
   "id": "51c6fe81-fef3-4079-80da-b0f9b3d203e8",
   "metadata": {},
   "source": [
    "# 1. 数据类型"
   ]
  },
  {
   "cell_type": "markdown",
   "id": "675086da-bd07-4f14-b3bb-0e32a14df47a",
   "metadata": {},
   "source": [
    "## 1.1 列表"
   ]
  },
  {
   "cell_type": "markdown",
   "id": "f426aa12-0e91-4c50-8af5-520febf3c47d",
   "metadata": {},
   "source": [
    "### 1.1.1 基础"
   ]
  },
  {
   "cell_type": "code",
   "execution_count": 1,
   "id": "62ef6c5f-0b34-4504-8cef-0c10b253e296",
   "metadata": {},
   "outputs": [
    {
     "name": "stdout",
     "output_type": "stream",
     "text": [
      "[111]\n",
      "[3, 4]\n",
      "[111, 3, '你', '好']\n",
      "[111, 3, 999, '你', '好']\n"
     ]
    }
   ],
   "source": [
    "list = ['1',2,3,4]\n",
    "list[0] = 111\n",
    "del list[1]\n",
    "print(list[0:1])  # 左闭右开\n",
    "print(list[1:])\n",
    "list[2:] = ['你','好']\n",
    "print(list)\n",
    "list[2:2] = [999] # 插入\n",
    "print(list)"
   ]
  },
  {
   "cell_type": "markdown",
   "id": "03758224-287b-4b09-8303-4bff173c71f7",
   "metadata": {},
   "source": [
    "### 1.1.2 常用方法"
   ]
  },
  {
   "cell_type": "markdown",
   "id": "e74433c8-f687-4232-b8ec-0fc8320786c2",
   "metadata": {},
   "source": [
    "#### 添加 append"
   ]
  },
  {
   "cell_type": "code",
   "execution_count": 2,
   "id": "90e05f6a-6ccf-4ad3-acb3-872d205a05d7",
   "metadata": {},
   "outputs": [
    {
     "name": "stdout",
     "output_type": "stream",
     "text": [
      "[1, 2, 3, 4, 5, 111]\n"
     ]
    }
   ],
   "source": [
    "list = [1,2,3,4,5]\n",
    "box = 111\n",
    "list.append(box)\n",
    "print(list)"
   ]
  },
  {
   "cell_type": "markdown",
   "id": "c27d886b-fc87-4bd1-9fb6-0abf28896c99",
   "metadata": {},
   "source": [
    "#### 清空 clear"
   ]
  },
  {
   "cell_type": "code",
   "execution_count": 3,
   "id": "2e651a8c-df6b-4afc-98ee-5d9985251c86",
   "metadata": {},
   "outputs": [
    {
     "name": "stdout",
     "output_type": "stream",
     "text": [
      "[]\n"
     ]
    }
   ],
   "source": [
    "list = [1,2,3,4,5]\n",
    "list.clear()\n",
    "print(list)"
   ]
  },
  {
   "cell_type": "markdown",
   "id": "a8fa18e0-6345-40a0-b214-a99c60e8d314",
   "metadata": {},
   "source": [
    "#### 计数 count（某元素出现次数）"
   ]
  },
  {
   "cell_type": "code",
   "execution_count": 4,
   "id": "fc684b72-1b02-4a54-8ef5-6511db50bde7",
   "metadata": {},
   "outputs": [
    {
     "name": "stdout",
     "output_type": "stream",
     "text": [
      "5\n"
     ]
    }
   ],
   "source": [
    "list = [1,2,3,4,5,5,5,5,5]\n",
    "num = list.count(5)\n",
    "print(num)"
   ]
  },
  {
   "cell_type": "markdown",
   "id": "b078cb6b-e21d-49d7-8b7d-c18f330e59c3",
   "metadata": {},
   "source": [
    "#### 扩展 extend"
   ]
  },
  {
   "cell_type": "code",
   "execution_count": 5,
   "id": "6606b21c-e0ff-4c64-b811-f255194d64c6",
   "metadata": {},
   "outputs": [
    {
     "name": "stdout",
     "output_type": "stream",
     "text": [
      "['你好', 'Python']\n"
     ]
    }
   ],
   "source": [
    "list1 = ['你好']\n",
    "list2 = ['Python']\n",
    "list1.extend(list2)\n",
    "print(list1)"
   ]
  },
  {
   "cell_type": "markdown",
   "id": "583cbb55-7022-42f1-9db3-625a8af1bb17",
   "metadata": {},
   "source": [
    "#### 查找 index"
   ]
  },
  {
   "cell_type": "code",
   "execution_count": 6,
   "id": "1bc26c06-ac7a-4396-8bf2-ae709d7c636a",
   "metadata": {},
   "outputs": [
    {
     "name": "stdout",
     "output_type": "stream",
     "text": [
      "1\n"
     ]
    }
   ],
   "source": [
    "list = ['Python', 'Token', 'Java']\n",
    "index = list.index('Token')\n",
    "print(index)"
   ]
  },
  {
   "cell_type": "markdown",
   "id": "a938d12b-8269-4e80-9447-b0621f9cc3bc",
   "metadata": {},
   "source": [
    "#### 插入 insert"
   ]
  },
  {
   "cell_type": "code",
   "execution_count": 11,
   "id": "81ca52ca-2eb3-4b9f-823f-d8926627122c",
   "metadata": {},
   "outputs": [
    {
     "name": "stdout",
     "output_type": "stream",
     "text": [
      "[1, 2, 3, 4, 555, 6]\n"
     ]
    }
   ],
   "source": [
    "list = [1,2,3,4,6]\n",
    "list.insert(4,555)\n",
    "print(list)"
   ]
  },
  {
   "cell_type": "markdown",
   "id": "29059d4e-1c07-4a07-a794-0310a76b62a7",
   "metadata": {},
   "source": [
    "#### 弹出 pop"
   ]
  },
  {
   "cell_type": "code",
   "execution_count": 15,
   "id": "7d774a43-fdfa-487d-bf7e-15d435bb9853",
   "metadata": {},
   "outputs": [
    {
     "name": "stdout",
     "output_type": "stream",
     "text": [
      "[1, 2, 3, 4]\n"
     ]
    }
   ],
   "source": [
    "list = [1,2,3,4,999]\n",
    "list.pop()\n",
    "\n",
    "print(list)"
   ]
  },
  {
   "cell_type": "markdown",
   "id": "db07ed98-66b5-4155-a153-b04392cfe28f",
   "metadata": {},
   "source": [
    "#### 删除第一个“指定值”元素 remove"
   ]
  },
  {
   "cell_type": "code",
   "execution_count": 17,
   "id": "f9ba9716-b0cc-4c89-911c-193f5ac2f32b",
   "metadata": {},
   "outputs": [
    {
     "name": "stdout",
     "output_type": "stream",
     "text": [
      "['Java', 'Javascript']\n"
     ]
    }
   ],
   "source": [
    "list = ['Python','Java','Javascript']\n",
    "list.remove('Python')\n",
    "\n",
    "print(list)"
   ]
  },
  {
   "cell_type": "markdown",
   "id": "43d5672e-286f-45ba-8f6c-05000b0de100",
   "metadata": {},
   "source": [
    "#### 翻转 reverse"
   ]
  },
  {
   "cell_type": "code",
   "execution_count": 19,
   "id": "31102d61-5e06-464e-8af5-aa6d53e647a6",
   "metadata": {},
   "outputs": [
    {
     "name": "stdout",
     "output_type": "stream",
     "text": [
      "[6, 5, 4, 3, 2, 1]\n"
     ]
    }
   ],
   "source": [
    "list = [1,2,3,4,5,6]\n",
    "list.reverse()\n",
    "\n",
    "print(list)"
   ]
  },
  {
   "cell_type": "markdown",
   "id": "630cd3f3-c0f6-474d-ae88-d7bc99785c90",
   "metadata": {},
   "source": [
    "#### 排序 sort"
   ]
  },
  {
   "cell_type": "code",
   "execution_count": 26,
   "id": "a5ee0f38-2d68-4573-8a90-219944fb5624",
   "metadata": {},
   "outputs": [
    {
     "name": "stdout",
     "output_type": "stream",
     "text": [
      "[1, 3, 9, 10, 11]\n"
     ]
    }
   ],
   "source": [
    "num = [1,9, 11, 3, 10]\n",
    "# num.sort(key= lambda x: x*(-1))\n",
    "num.sort(reverse=False)\n",
    "print(num)"
   ]
  },
  {
   "cell_type": "code",
   "execution_count": null,
   "id": "094eef8e-58d2-4314-aa86-a73fcd423da5",
   "metadata": {},
   "outputs": [],
   "source": []
  }
 ],
 "metadata": {
  "kernelspec": {
   "display_name": "Python 3 (ipykernel)",
   "language": "python",
   "name": "python3"
  },
  "language_info": {
   "codemirror_mode": {
    "name": "ipython",
    "version": 3
   },
   "file_extension": ".py",
   "mimetype": "text/x-python",
   "name": "python",
   "nbconvert_exporter": "python",
   "pygments_lexer": "ipython3",
   "version": "3.12.7"
  }
 },
 "nbformat": 4,
 "nbformat_minor": 5
}
